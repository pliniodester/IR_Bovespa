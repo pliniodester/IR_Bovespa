{
  "nbformat": 4,
  "nbformat_minor": 0,
  "metadata": {
    "colab": {
      "name": "IR_stocks.ipynb",
      "provenance": [],
      "collapsed_sections": [],
      "include_colab_link": true
    },
    "kernelspec": {
      "name": "python3",
      "display_name": "Python 3"
    }
  },
  "cells": [
    {
      "cell_type": "markdown",
      "metadata": {
        "id": "view-in-github",
        "colab_type": "text"
      },
      "source": [
        "<a href=\"https://colab.research.google.com/github/pliniodester/IR_Bovespa/blob/main/IR_ativos.ipynb\" target=\"_parent\"><img src=\"https://colab.research.google.com/assets/colab-badge.svg\" alt=\"Open In Colab\"/></a>"
      ]
    },
    {
      "cell_type": "code",
      "metadata": {
        "id": "PPB4I-rbANyM"
      },
      "source": [
        "import numpy  as np\n",
        "import pandas as pd\n",
        "import io\n",
        "import datetime"
      ],
      "execution_count": null,
      "outputs": []
    },
    {
      "cell_type": "code",
      "metadata": {
        "id": "kaCB1COAAk__"
      },
      "source": [
        "from google.colab import files\n",
        "uploaded = files.upload()\n",
        "\n",
        "df = pd.read_csv(io.BytesIO(uploaded['Negociações Bovespa.csv']))\n",
        "# Dataset is now stored in a Pandas Dataframe\n",
        "display(df)"
      ],
      "execution_count": null,
      "outputs": []
    },
    {
      "cell_type": "code",
      "metadata": {
        "id": "fWH8q4BLPZ0X"
      },
      "source": [
        "# date in yyyy/mm/dd format (UPDATE EVERY MONTH)\n",
        "Date0 = datetime.datetime(2010,   1,  1)\n",
        "Datef = datetime.datetime(2022,  12, 31)\n",
        "\n",
        "Old_tickers = ['KROT3', 'ESTC3', 'NATU3', 'FFCI11', 'CPTS11B', 'VIVT4', 'TIET11', 'RLOG3']\n",
        "New_tickers = ['COGN3', 'YDUQ3', 'NTCO3', 'RCRB11', 'CPTS11' , 'VIVT3', 'AESB3' , 'CSAN3']\n",
        "\n",
        "Split_ticker = ['IRBR3'   , 'UGPA3'   , 'GRND3'   , 'ITUB3'   , 'RADL3'   , 'SAPR11'  , 'CSMG3'   , 'CSAN3'   , 'WEGE3'   , 'SHUL4'   , 'CSAN3'   , 'B3SA3']\n",
        "Split_exdate = ['26/09/19', '18/04/19', '01/06/18', '21/11/18', '23/09/20', '30/03/20', '30/11/20', '08/03/21', '27/04/21', '24/04/21', '06/05/21', '17/05/21']\n",
        "Split_ratio  = [3         , 2         , 3         , 1.5       , 5         , 3         , 3         , 0.2536068 , 2         , 2         , 4         , 3]"
      ],
      "execution_count": null,
      "outputs": []
    },
    {
      "cell_type": "code",
      "metadata": {
        "id": "mxug5YqUA-sE"
      },
      "source": [
        "df2 = df\n",
        "\n",
        "df2['Data'] = pd.to_datetime(df2['Data'], dayfirst = True)\n",
        "df2 = df2.sort_values(by='Data')\n",
        "\n",
        "df2['Código'] = df2['Código'].str.replace(r'F$', '')\n",
        "\n",
        "df2['Preço Médio de Compra'] = \\\n",
        "  df2['Preço Médio de Compra'].apply(lambda x: x.replace(',','.')).astype(float)\n",
        "df2['Preço Médio de Venda'] = \\\n",
        "  df2['Preço Médio de Venda'].apply(lambda x: x.replace(',','.')).astype(float)\n",
        "\n",
        "df2['Quantidade Líquida'] = (df2['Quantidade de Compra'] - df2['Quantidade de Venda'])\n",
        "df2.loc[df2['Quantidade Líquida']>0, 'Preço Médio'] = \\\n",
        "  df2.loc[df2['Quantidade Líquida']>0,'Preço Médio de Compra']\n",
        "df2.loc[df2['Quantidade Líquida']<0, 'Preço Médio'] = \\\n",
        "  df2.loc[df2['Quantidade Líquida']<0,'Preço Médio de Venda']\n",
        "df2.loc[df2['Quantidade Líquida']==0, 'Preço Médio'] = 0  \n",
        "\n",
        "df2['Valor Líquido'] = df2['Quantidade Líquida']*df2['Preço Médio']\n",
        "\n",
        "for ind in range(0,len(Old_tickers)):\n",
        "  df2['Código'] = \\\n",
        "    df2['Código'].apply(lambda x: x.replace(Old_tickers[ind],New_tickers[ind]))\n",
        "\n",
        "Split_exdate = pd.to_datetime(Split_exdate, dayfirst = True)\n",
        "for ind in range(0,len(Split_ticker)):\n",
        "  aux = (df2['Código']==Split_ticker[ind])&(df2['Data']<Split_exdate[ind])\n",
        "  df2.loc[aux, 'Quantidade Líquida'] *= Split_ratio[ind]\n",
        "  df2.loc[aux, 'Preço Médio'] /= Split_ratio[ind]\n",
        "\n",
        "DayTrade = pd.DataFrame(df2['Código'],columns=['Código'])\n",
        "DayTrade['Data'] = df2['Data']\n",
        "DayTrade['Quantidade Líquida'] = \\\n",
        "  df2[['Quantidade de Compra','Quantidade de Venda']].min(axis=1).astype(int)\n",
        "DayTrade = DayTrade[DayTrade['Quantidade Líquida']!=0]\n",
        "DayTrade['Lucro'] = (df2['Preço Médio de Venda']-df2['Preço Médio de Compra'])* \\\n",
        "  DayTrade['Quantidade Líquida']\n",
        "display(DayTrade)\n",
        "\n",
        "df2 = df2.drop(['Quantidade de Compra', 'Quantidade de Venda',\\\n",
        "                'Preço Médio de Compra','Preço Médio de Venda','Posição'], axis=1)\n",
        "display(df2)"
      ],
      "execution_count": null,
      "outputs": []
    },
    {
      "cell_type": "code",
      "metadata": {
        "id": "GdFbRVcNCnTs"
      },
      "source": [
        "# This block calc average price, stock profits, day trade and FIIs trade\n",
        "data = [[0,0,0,0]] \n",
        "df2['Lucro'] = 0.00\n",
        "for ticker in np.unique(df2['Código']):\n",
        "  stocks = 0\n",
        "  mean = 0.0\n",
        "  profit = 0\n",
        "  for ind in df2[(df2['Código'] == ticker) & (df2['Data'] <= Datef)].index:\n",
        "    if df2['Valor Líquido'][ind] > 0:\n",
        "      mean = (mean*stocks + \\\n",
        "              df2['Valor Líquido'][ind])/(stocks + df2['Quantidade Líquida'][ind])\n",
        "      if stocks + df2['Quantidade Líquida'][ind] <= 0:\n",
        "        print('Error:',ticker, ind)\n",
        "    else:\n",
        "      df2.loc[ind,'Lucro'] = (df2['Preço Médio'][ind]-mean)*(-df2['Quantidade Líquida'][ind])\n",
        "      if df2['Data'][ind] >= Date0:\n",
        "        profit += df2['Lucro'][ind]\n",
        "    stocks += df2['Quantidade Líquida'][ind]\n",
        "  data = np.append(data,[[ticker, stocks, \"{:.2f}\".format(mean), \\\n",
        "                          \"{:.2f}\".format(profit)]],axis=0)\n",
        "  # print(ticker, stocks, 'x', \"{:.2f}\".format(mean))\n",
        "IR = pd.DataFrame(data, columns = ['Ticker', 'Ações','Preço médio','Lucro'])\n",
        "IR['Ações'] = IR['Ações'].astype(float).astype(int)\n",
        "IR['Lucro'] = IR['Lucro'].astype(float)\n",
        "\n",
        "print('****** Preço Médio ******')\n",
        "print(IR[IR['Ações']>0].drop(['Lucro'],axis=1).to_string())\n",
        "print('\\n****** Swing Trade ******')\n",
        "print(IR[IR['Lucro']!=0].drop(['Preço médio','Ações'],axis=1).to_string(),'\\n')\n",
        "print('Lucro total = ', \"{:.2f}\".format(IR['Lucro'].astype(float).sum()))\n",
        "print('\\n****** FIIs Trade (swing trade) ******\\n', \\\n",
        "      df2[(df2['Código'].str.endswith('11'))&(df2['Código']!='SAPR11')& \\\n",
        "          (df2['Lucro']!=0)&(df2['Código']!='KLBN11')&(df2['Código']!='TAEE11') & \\\n",
        "          (df2['Código']!='TIET11')&(df2['Código']!='BPAC11')&(df2['Código']!='ALUP11')].to_string(),'\\n')\n",
        "print('\\n****** Day Trade ******\\n',DayTrade.to_string())"
      ],
      "execution_count": null,
      "outputs": []
    },
    {
      "cell_type": "code",
      "metadata": {
        "id": "7ki43zJpYs16"
      },
      "source": [
        "print(IR[(IR['Ticker'].str.endswith('11')) & (IR['Lucro']!=0)].to_string()) # Print the IR info relative to tickers ending in 11, and profit != 0"
      ],
      "execution_count": null,
      "outputs": []
    },
    {
      "cell_type": "code",
      "metadata": {
        "id": "AT2Fz0ijaaXM"
      },
      "source": [
        "df2 = df2[df2['Data']<'2019-12-01'] # Filter considering date"
      ],
      "execution_count": null,
      "outputs": []
    },
    {
      "cell_type": "code",
      "metadata": {
        "id": "LDbiQJHQVvb9"
      },
      "source": [
        "df2[df2['Código']=='MULT3'] # Print all trades relative to ticker"
      ],
      "execution_count": null,
      "outputs": []
    },
    {
      "cell_type": "code",
      "metadata": {
        "id": "V5zO6YUjP2A2"
      },
      "source": [
        "print(df2[(df2['Preço Médio']>60) & (df2['Código']!='')].to_string()) # Filter considering avg price and ticker"
      ],
      "execution_count": null,
      "outputs": []
    },
    {
      "cell_type": "code",
      "metadata": {
        "id": "TY1FaCZxefoc"
      },
      "source": [
        "print(df2.to_string()) # Print all trades"
      ],
      "execution_count": null,
      "outputs": []
    },
    {
      "cell_type": "code",
      "metadata": {
        "id": "hWlHE1DEegFW"
      },
      "source": [
        "print(IR[(IR['Lucro']!=0)].to_string()) # Print IR the info relative to tickers with profit != 0"
      ],
      "execution_count": null,
      "outputs": []
    }
  ]
}